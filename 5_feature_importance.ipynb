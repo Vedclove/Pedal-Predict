{
 "cells": [
  {
   "cell_type": "code",
   "execution_count": 1,
   "id": "50839aef",
   "metadata": {},
   "outputs": [],
   "source": [
    "from src.config import *\n",
    "import pandas as pd\n",
    "import numpy as np "
   ]
  },
  {
   "cell_type": "code",
   "execution_count": 2,
   "id": "955cc8dd",
   "metadata": {},
   "outputs": [],
   "source": [
    "df = pd.read_csv('Dataset/transformed/transformed_data_6h.csv')"
   ]
  },
  {
   "cell_type": "code",
   "execution_count": 3,
   "id": "c0dd1c80",
   "metadata": {},
   "outputs": [],
   "source": [
    "imp_lags = ['rides_t-1', 'rides_t-4', 'rides_t-28', 'rides_t-3', 'rides_t-84', 'rides_t-56', 'rides_t-24', 'rides_t-112', 'rides_t-2', 'rides_t-140','pickup_hour','target']\n",
    "\n",
    "df_2 = df[imp_lags]"
   ]
  },
  {
   "cell_type": "code",
   "execution_count": 4,
   "id": "56647248",
   "metadata": {},
   "outputs": [
    {
     "data": {
      "text/html": [
       "<div>\n",
       "<style scoped>\n",
       "    .dataframe tbody tr th:only-of-type {\n",
       "        vertical-align: middle;\n",
       "    }\n",
       "\n",
       "    .dataframe tbody tr th {\n",
       "        vertical-align: top;\n",
       "    }\n",
       "\n",
       "    .dataframe thead th {\n",
       "        text-align: right;\n",
       "    }\n",
       "</style>\n",
       "<table border=\"1\" class=\"dataframe\">\n",
       "  <thead>\n",
       "    <tr style=\"text-align: right;\">\n",
       "      <th></th>\n",
       "      <th>rides_t-1</th>\n",
       "      <th>rides_t-4</th>\n",
       "      <th>rides_t-28</th>\n",
       "      <th>rides_t-3</th>\n",
       "      <th>rides_t-84</th>\n",
       "      <th>rides_t-56</th>\n",
       "      <th>rides_t-24</th>\n",
       "      <th>rides_t-112</th>\n",
       "      <th>rides_t-2</th>\n",
       "      <th>rides_t-140</th>\n",
       "      <th>pickup_hour</th>\n",
       "      <th>target</th>\n",
       "    </tr>\n",
       "  </thead>\n",
       "  <tbody>\n",
       "    <tr>\n",
       "      <th>0</th>\n",
       "      <td>15</td>\n",
       "      <td>6</td>\n",
       "      <td>1</td>\n",
       "      <td>6</td>\n",
       "      <td>7</td>\n",
       "      <td>7</td>\n",
       "      <td>0</td>\n",
       "      <td>10</td>\n",
       "      <td>22</td>\n",
       "      <td>3</td>\n",
       "      <td>2022-01-01 00:00:00</td>\n",
       "      <td>8</td>\n",
       "    </tr>\n",
       "    <tr>\n",
       "      <th>1</th>\n",
       "      <td>8</td>\n",
       "      <td>6</td>\n",
       "      <td>0</td>\n",
       "      <td>22</td>\n",
       "      <td>6</td>\n",
       "      <td>0</td>\n",
       "      <td>4</td>\n",
       "      <td>8</td>\n",
       "      <td>15</td>\n",
       "      <td>8</td>\n",
       "      <td>2022-01-01 06:00:00</td>\n",
       "      <td>4</td>\n",
       "    </tr>\n",
       "    <tr>\n",
       "      <th>2</th>\n",
       "      <td>4</td>\n",
       "      <td>22</td>\n",
       "      <td>3</td>\n",
       "      <td>15</td>\n",
       "      <td>29</td>\n",
       "      <td>11</td>\n",
       "      <td>15</td>\n",
       "      <td>39</td>\n",
       "      <td>8</td>\n",
       "      <td>6</td>\n",
       "      <td>2022-01-01 12:00:00</td>\n",
       "      <td>4</td>\n",
       "    </tr>\n",
       "    <tr>\n",
       "      <th>3</th>\n",
       "      <td>4</td>\n",
       "      <td>15</td>\n",
       "      <td>3</td>\n",
       "      <td>8</td>\n",
       "      <td>24</td>\n",
       "      <td>12</td>\n",
       "      <td>11</td>\n",
       "      <td>28</td>\n",
       "      <td>4</td>\n",
       "      <td>7</td>\n",
       "      <td>2022-01-01 18:00:00</td>\n",
       "      <td>3</td>\n",
       "    </tr>\n",
       "    <tr>\n",
       "      <th>4</th>\n",
       "      <td>3</td>\n",
       "      <td>8</td>\n",
       "      <td>0</td>\n",
       "      <td>4</td>\n",
       "      <td>10</td>\n",
       "      <td>2</td>\n",
       "      <td>3</td>\n",
       "      <td>5</td>\n",
       "      <td>4</td>\n",
       "      <td>6</td>\n",
       "      <td>2022-01-02 00:00:00</td>\n",
       "      <td>2</td>\n",
       "    </tr>\n",
       "    <tr>\n",
       "      <th>...</th>\n",
       "      <td>...</td>\n",
       "      <td>...</td>\n",
       "      <td>...</td>\n",
       "      <td>...</td>\n",
       "      <td>...</td>\n",
       "      <td>...</td>\n",
       "      <td>...</td>\n",
       "      <td>...</td>\n",
       "      <td>...</td>\n",
       "      <td>...</td>\n",
       "      <td>...</td>\n",
       "      <td>...</td>\n",
       "    </tr>\n",
       "    <tr>\n",
       "      <th>8755</th>\n",
       "      <td>12</td>\n",
       "      <td>5</td>\n",
       "      <td>2</td>\n",
       "      <td>3</td>\n",
       "      <td>12</td>\n",
       "      <td>7</td>\n",
       "      <td>3</td>\n",
       "      <td>5</td>\n",
       "      <td>4</td>\n",
       "      <td>1</td>\n",
       "      <td>2023-12-30 18:00:00</td>\n",
       "      <td>4</td>\n",
       "    </tr>\n",
       "    <tr>\n",
       "      <th>8756</th>\n",
       "      <td>4</td>\n",
       "      <td>3</td>\n",
       "      <td>0</td>\n",
       "      <td>4</td>\n",
       "      <td>2</td>\n",
       "      <td>0</td>\n",
       "      <td>0</td>\n",
       "      <td>1</td>\n",
       "      <td>12</td>\n",
       "      <td>1</td>\n",
       "      <td>2023-12-31 00:00:00</td>\n",
       "      <td>2</td>\n",
       "    </tr>\n",
       "    <tr>\n",
       "      <th>8757</th>\n",
       "      <td>2</td>\n",
       "      <td>4</td>\n",
       "      <td>2</td>\n",
       "      <td>12</td>\n",
       "      <td>7</td>\n",
       "      <td>4</td>\n",
       "      <td>4</td>\n",
       "      <td>2</td>\n",
       "      <td>4</td>\n",
       "      <td>9</td>\n",
       "      <td>2023-12-31 06:00:00</td>\n",
       "      <td>6</td>\n",
       "    </tr>\n",
       "    <tr>\n",
       "      <th>8758</th>\n",
       "      <td>6</td>\n",
       "      <td>12</td>\n",
       "      <td>7</td>\n",
       "      <td>4</td>\n",
       "      <td>10</td>\n",
       "      <td>13</td>\n",
       "      <td>6</td>\n",
       "      <td>5</td>\n",
       "      <td>2</td>\n",
       "      <td>8</td>\n",
       "      <td>2023-12-31 12:00:00</td>\n",
       "      <td>6</td>\n",
       "    </tr>\n",
       "    <tr>\n",
       "      <th>8759</th>\n",
       "      <td>6</td>\n",
       "      <td>4</td>\n",
       "      <td>3</td>\n",
       "      <td>2</td>\n",
       "      <td>1</td>\n",
       "      <td>0</td>\n",
       "      <td>2</td>\n",
       "      <td>4</td>\n",
       "      <td>6</td>\n",
       "      <td>2</td>\n",
       "      <td>2023-12-31 18:00:00</td>\n",
       "      <td>6</td>\n",
       "    </tr>\n",
       "  </tbody>\n",
       "</table>\n",
       "<p>8760 rows × 12 columns</p>\n",
       "</div>"
      ],
      "text/plain": [
       "      rides_t-1  rides_t-4  rides_t-28  rides_t-3  rides_t-84  rides_t-56  \\\n",
       "0            15          6           1          6           7           7   \n",
       "1             8          6           0         22           6           0   \n",
       "2             4         22           3         15          29          11   \n",
       "3             4         15           3          8          24          12   \n",
       "4             3          8           0          4          10           2   \n",
       "...         ...        ...         ...        ...         ...         ...   \n",
       "8755         12          5           2          3          12           7   \n",
       "8756          4          3           0          4           2           0   \n",
       "8757          2          4           2         12           7           4   \n",
       "8758          6         12           7          4          10          13   \n",
       "8759          6          4           3          2           1           0   \n",
       "\n",
       "      rides_t-24  rides_t-112  rides_t-2  rides_t-140          pickup_hour  \\\n",
       "0              0           10         22            3  2022-01-01 00:00:00   \n",
       "1              4            8         15            8  2022-01-01 06:00:00   \n",
       "2             15           39          8            6  2022-01-01 12:00:00   \n",
       "3             11           28          4            7  2022-01-01 18:00:00   \n",
       "4              3            5          4            6  2022-01-02 00:00:00   \n",
       "...          ...          ...        ...          ...                  ...   \n",
       "8755           3            5          4            1  2023-12-30 18:00:00   \n",
       "8756           0            1         12            1  2023-12-31 00:00:00   \n",
       "8757           4            2          4            9  2023-12-31 06:00:00   \n",
       "8758           6            5          2            8  2023-12-31 12:00:00   \n",
       "8759           2            4          6            2  2023-12-31 18:00:00   \n",
       "\n",
       "      target  \n",
       "0          8  \n",
       "1          4  \n",
       "2          4  \n",
       "3          3  \n",
       "4          2  \n",
       "...      ...  \n",
       "8755       4  \n",
       "8756       2  \n",
       "8757       6  \n",
       "8758       6  \n",
       "8759       6  \n",
       "\n",
       "[8760 rows x 12 columns]"
      ]
     },
     "execution_count": 4,
     "metadata": {},
     "output_type": "execute_result"
    }
   ],
   "source": [
    "df_2"
   ]
  },
  {
   "cell_type": "code",
   "execution_count": 5,
   "id": "7eca0670",
   "metadata": {},
   "outputs": [
    {
     "name": "stdout",
     "output_type": "stream",
     "text": [
      "(4380, 10)\n",
      "(4380,)\n",
      "(4380, 10)\n",
      "(4380,)\n"
     ]
    },
    {
     "name": "stderr",
     "output_type": "stream",
     "text": [
      "/var/folders/wn/f9dqwf512q52fzs0t0yk_4jw0000gn/T/ipykernel_96348/343135844.py:2: SettingWithCopyWarning: \n",
      "A value is trying to be set on a copy of a slice from a DataFrame.\n",
      "Try using .loc[row_indexer,col_indexer] = value instead\n",
      "\n",
      "See the caveats in the documentation: https://pandas.pydata.org/pandas-docs/stable/user_guide/indexing.html#returning-a-view-versus-a-copy\n",
      "  df_2['pickup_hour'] = pd.to_datetime(df_2['pickup_hour'])\n"
     ]
    }
   ],
   "source": [
    "# Ensure the 'pickup_hour' column is in datetime format\n",
    "df_2['pickup_hour'] = pd.to_datetime(df_2['pickup_hour'])\n",
    "\n",
    "# Split the data into training (2022) and testing (2023)\n",
    "train_data = df_2[df_2['pickup_hour'].dt.year == 2022]\n",
    "test_data = df_2[df_2['pickup_hour'].dt.year == 2023]\n",
    "\n",
    "# Separate features (X) and target (Y)\n",
    "X_train = train_data.drop(columns=['target','pickup_hour'])\n",
    "y_train = train_data['target']\n",
    "\n",
    "X_test = test_data.drop(columns=['target','pickup_hour'])\n",
    "y_test = test_data['target']\n",
    "\n",
    "print(X_train.shape)\n",
    "print(y_train.shape)\n",
    "print(X_test.shape)\n",
    "print(y_test.shape)"
   ]
  },
  {
   "cell_type": "code",
   "execution_count": 6,
   "id": "5bd3a735",
   "metadata": {},
   "outputs": [
    {
     "name": "stdout",
     "output_type": "stream",
     "text": [
      "[LightGBM] [Info] Auto-choosing row-wise multi-threading, the overhead of testing was 0.000378 seconds.\n",
      "You can set `force_row_wise=true` to remove the overhead.\n",
      "And if memory is not enough, you can set `force_col_wise=true`.\n",
      "[LightGBM] [Info] Total Bins 730\n",
      "[LightGBM] [Info] Number of data points in the train set: 4380, number of used features: 10\n",
      "[LightGBM] [Info] Start training from score 14.637215\n",
      "LightGBM MAE: 4.70\n"
     ]
    }
   ],
   "source": [
    "import lightgbm as lgb\n",
    "from sklearn.metrics import mean_absolute_error\n",
    "\n",
    "# 2. Define and train LightGBM model\n",
    "model = lgb.LGBMRegressor(\n",
    "    objective='regression',\n",
    "    n_estimators=100,\n",
    "    learning_rate=0.05,\n",
    "    num_leaves=31,\n",
    "    random_state=42\n",
    ")\n",
    "\n",
    "model.fit(X_train, y_train)\n",
    "\n",
    "# 3. Predict and evaluate\n",
    "y_pred = model.predict(X_test)\n",
    "mae = mean_absolute_error(y_test, y_pred)\n",
    "print(f\"LightGBM MAE: {mae:.2f}\")\n"
   ]
  },
  {
   "cell_type": "code",
   "execution_count": 7,
   "id": "2bdd0941",
   "metadata": {},
   "outputs": [
    {
     "data": {
      "text/html": [
       "<pre style=\"white-space:pre;overflow-x:auto;line-height:normal;font-family:Menlo,'DejaVu Sans Mono',consolas,'Courier New',monospace\">Accessing as Vedclove\n",
       "</pre>\n"
      ],
      "text/plain": [
       "Accessing as Vedclove\n"
      ]
     },
     "metadata": {},
     "output_type": "display_data"
    },
    {
     "data": {
      "text/html": [
       "<pre style=\"white-space:pre;overflow-x:auto;line-height:normal;font-family:Menlo,'DejaVu Sans Mono',consolas,'Courier New',monospace\">Initialized MLflow to track repo <span style=\"color: #008000; text-decoration-color: #008000\">\"Vedclove/Pedal-Predict\"</span>\n",
       "</pre>\n"
      ],
      "text/plain": [
       "Initialized MLflow to track repo \u001b[32m\"Vedclove/Pedal-Predict\"\u001b[0m\n"
      ]
     },
     "metadata": {},
     "output_type": "display_data"
    },
    {
     "data": {
      "text/html": [
       "<pre style=\"white-space:pre;overflow-x:auto;line-height:normal;font-family:Menlo,'DejaVu Sans Mono',consolas,'Courier New',monospace\">Repository Vedclove/Pedal-Predict initialized!\n",
       "</pre>\n"
      ],
      "text/plain": [
       "Repository Vedclove/Pedal-Predict initialized!\n"
      ]
     },
     "metadata": {},
     "output_type": "display_data"
    },
    {
     "name": "stderr",
     "output_type": "stream",
     "text": [
      "INFO:src.experiment_utils:MLflow tracking URI and credentials set.\n"
     ]
    },
    {
     "name": "stdout",
     "output_type": "stream",
     "text": [
      "Current MLflow Tracking URI: https://dagshub.com/Vedclove/Pedal-Predict.mlflow\n"
     ]
    },
    {
     "name": "stderr",
     "output_type": "stream",
     "text": [
      "2025/05/10 11:14:16 INFO mlflow.tracking.fluent: Experiment with name 'LightGBM with FE Model' does not exist. Creating a new experiment.\n"
     ]
    },
    {
     "name": "stdout",
     "output_type": "stream",
     "text": [
      "🏃 View run vaunted-fish-488 at: https://dagshub.com/Vedclove/Pedal-Predict.mlflow/#/experiments/2/runs/43585a07c62444d186b77a97747b58cf\n",
      "🧪 View experiment at: https://dagshub.com/Vedclove/Pedal-Predict.mlflow/#/experiments/2\n"
     ]
    }
   ],
   "source": [
    "import sys\n",
    "import os\n",
    "\n",
    "# Add the parent directory to the Python path\n",
    "sys.path.append(os.path.abspath(os.path.join(os.getcwd(), \"..\")))\n",
    "\n",
    "import dagshub\n",
    "dagshub.init(repo_owner='Vedclove', repo_name='Pedal-Predict', mlflow=True)\n",
    "\n",
    "from src.experiment_utils import set_mlflow_tracking, log_model_to_mlflow\n",
    "\n",
    "mlflow = set_mlflow_tracking()\n",
    "\n",
    "import mlflow\n",
    "\n",
    "print(\"Current MLflow Tracking URI:\", mlflow.get_tracking_uri())\n",
    "\n",
    "mlflow.set_experiment(\"LightGBM with FE Model\")\n",
    "\n",
    "# Start an MLflow run\n",
    "with mlflow.start_run():\n",
    "        mlflow.log_metric(\"mean_absolute_error\", mae)"
   ]
  }
 ],
 "metadata": {
  "kernelspec": {
   "display_name": "citi",
   "language": "python",
   "name": "python3"
  },
  "language_info": {
   "codemirror_mode": {
    "name": "ipython",
    "version": 3
   },
   "file_extension": ".py",
   "mimetype": "text/x-python",
   "name": "python",
   "nbconvert_exporter": "python",
   "pygments_lexer": "ipython3",
   "version": "3.11.11"
  }
 },
 "nbformat": 4,
 "nbformat_minor": 5
}

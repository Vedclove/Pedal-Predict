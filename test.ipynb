{
 "cells": [
  {
   "cell_type": "code",
   "execution_count": 2,
   "id": "02ef9c7c",
   "metadata": {},
   "outputs": [
    {
     "name": "stdout",
     "output_type": "stream",
     "text": [
      "2025-05-06 21:48:29,798 INFO: Initializing external client\n",
      "2025-05-06 21:48:29,798 INFO: Base URL: https://c.app.hopsworks.ai:443\n",
      "2025-05-06 21:48:30,140 INFO: Closing external client and cleaning up certificates.\n",
      "Connection closed.\n",
      "Copy your Api Key (first register/login): https://c.app.hopsworks.ai/account/api/generated\n",
      "2025-05-06 21:48:49,867 INFO: Initializing external client\n",
      "2025-05-06 21:48:49,869 INFO: Base URL: https://c.app.hopsworks.ai:443\n",
      "2025-05-06 21:48:50,167 INFO: Closing external client and cleaning up certificates.\n",
      "Connection closed.\n"
     ]
    },
    {
     "ename": "RestAPIError",
     "evalue": "Metadata operation error: (url: https://c.app.hopsworks.ai/hopsworks-api/api/project). Server response: \nHTTP code: 401, HTTP reason: Unauthorized, body: b'{\"errorCode\":320012,\"errorMsg\":\"Invalid or incorrect API key.\"}', error code: 320012, error msg: Invalid or incorrect API key., user msg: ",
     "output_type": "error",
     "traceback": [
      "\u001b[31m---------------------------------------------------------------------------\u001b[39m",
      "\u001b[31mRestAPIError\u001b[39m                              Traceback (most recent call last)",
      "\u001b[36mCell\u001b[39m\u001b[36m \u001b[39m\u001b[32mIn[2]\u001b[39m\u001b[32m, line 4\u001b[39m\n\u001b[32m      1\u001b[39m \u001b[38;5;28;01mimport\u001b[39;00m\u001b[38;5;250m \u001b[39m\u001b[34;01mhopsworks\u001b[39;00m\n\u001b[32m      3\u001b[39m \u001b[38;5;66;03m# Log in to Hopsworks\u001b[39;00m\n\u001b[32m----> \u001b[39m\u001b[32m4\u001b[39m project = \u001b[43mhopsworks\u001b[49m\u001b[43m.\u001b[49m\u001b[43mlogin\u001b[49m\u001b[43m(\u001b[49m\u001b[43m)\u001b[49m\n\u001b[32m      6\u001b[39m \u001b[38;5;66;03m# Create a new project\u001b[39;00m\n\u001b[32m      7\u001b[39m new_project = hopsworks.create_project(\u001b[33m\"\u001b[39m\u001b[33mpedal_predict\u001b[39m\u001b[33m\"\u001b[39m)\n",
      "\u001b[36mFile \u001b[39m\u001b[32m/opt/anaconda3/envs/citi/lib/python3.11/site-packages/hopsworks/__init__.py:281\u001b[39m, in \u001b[36mlogin\u001b[39m\u001b[34m(host, port, project, api_key_value, api_key_file, hostname_verification, trust_store_path, engine)\u001b[39m\n\u001b[32m    279\u001b[39m \u001b[38;5;28;01mexcept\u001b[39;00m RestAPIError \u001b[38;5;28;01mas\u001b[39;00m hw_e:\n\u001b[32m    280\u001b[39m     logout()\n\u001b[32m--> \u001b[39m\u001b[32m281\u001b[39m     \u001b[38;5;28;01mraise\u001b[39;00m hw_e\n\u001b[32m    282\u001b[39m \u001b[38;5;28;01mexcept\u001b[39;00m SSLError \u001b[38;5;28;01mas\u001b[39;00m ssl_e:\n\u001b[32m    283\u001b[39m     logout()\n",
      "\u001b[36mFile \u001b[39m\u001b[32m/opt/anaconda3/envs/citi/lib/python3.11/site-packages/hopsworks/__init__.py:276\u001b[39m, in \u001b[36mlogin\u001b[39m\u001b[34m(host, port, project, api_key_value, api_key_file, hostname_verification, trust_store_path, engine)\u001b[39m\n\u001b[32m    267\u001b[39m \u001b[38;5;28;01mtry\u001b[39;00m:\n\u001b[32m    268\u001b[39m     _hw_connection = _hw_connection(\n\u001b[32m    269\u001b[39m         host=host,\n\u001b[32m    270\u001b[39m         port=port,\n\u001b[32m   (...)\u001b[39m\u001b[32m    274\u001b[39m         trust_store_path=trust_store_path,\n\u001b[32m    275\u001b[39m     )\n\u001b[32m--> \u001b[39m\u001b[32m276\u001b[39m     _connected_project = \u001b[43m_prompt_project\u001b[49m\u001b[43m(\u001b[49m\u001b[43m_hw_connection\u001b[49m\u001b[43m,\u001b[49m\u001b[43m \u001b[49m\u001b[43mproject\u001b[49m\u001b[43m,\u001b[49m\u001b[43m \u001b[49m\u001b[43mis_app\u001b[49m\u001b[43m)\u001b[49m\n\u001b[32m    277\u001b[39m     \u001b[38;5;28;01mif\u001b[39;00m _connected_project:\n\u001b[32m    278\u001b[39m         _set_active_project(_connected_project)\n",
      "\u001b[36mFile \u001b[39m\u001b[32m/opt/anaconda3/envs/citi/lib/python3.11/site-packages/hopsworks/__init__.py:347\u001b[39m, in \u001b[36m_prompt_project\u001b[39m\u001b[34m(valid_connection, project, is_app)\u001b[39m\n\u001b[32m    343\u001b[39m \u001b[38;5;28;01mif\u001b[39;00m project \u001b[38;5;129;01mis\u001b[39;00m \u001b[38;5;28;01mNone\u001b[39;00m:\n\u001b[32m    344\u001b[39m     \u001b[38;5;28;01mif\u001b[39;00m is_app:\n\u001b[32m    345\u001b[39m         \u001b[38;5;66;03m# On Serverless we filter out projects owned by other users to make sure automatic login\u001b[39;00m\n\u001b[32m    346\u001b[39m         \u001b[38;5;66;03m# without a prompt still happens when users add showcase projects created by other users\u001b[39;00m\n\u001b[32m--> \u001b[39m\u001b[32m347\u001b[39m         saas_projects = \u001b[43mvalid_connection\u001b[49m\u001b[43m.\u001b[49m\u001b[43m_project_api\u001b[49m\u001b[43m.\u001b[49m\u001b[43m_get_owned_projects\u001b[49m\u001b[43m(\u001b[49m\u001b[43m)\u001b[49m\n\u001b[32m    348\u001b[39m     \u001b[38;5;28;01melse\u001b[39;00m:\n\u001b[32m    349\u001b[39m         saas_projects = valid_connection._project_api._get_projects()\n",
      "\u001b[36mFile \u001b[39m\u001b[32m/opt/anaconda3/envs/citi/lib/python3.11/site-packages/hopsworks_common/core/project_api.py:48\u001b[39m, in \u001b[36mProjectApi._get_owned_projects\u001b[39m\u001b[34m(self)\u001b[39m\n\u001b[32m     40\u001b[39m \u001b[38;5;28;01mdef\u001b[39;00m\u001b[38;5;250m \u001b[39m\u001b[34m_get_owned_projects\u001b[39m(\u001b[38;5;28mself\u001b[39m):\n\u001b[32m     41\u001b[39m \u001b[38;5;250m    \u001b[39m\u001b[33;03m\"\"\"Get all projects owned by the current user\u001b[39;00m\n\u001b[32m     42\u001b[39m \n\u001b[32m     43\u001b[39m \u001b[33;03m    # Returns\u001b[39;00m\n\u001b[32m   (...)\u001b[39m\u001b[32m     46\u001b[39m \u001b[33;03m        `hopsworks.client.exceptions.RestAPIError`: If unable to get the project teams\u001b[39;00m\n\u001b[32m     47\u001b[39m \u001b[33;03m    \"\"\"\u001b[39;00m\n\u001b[32m---> \u001b[39m\u001b[32m48\u001b[39m     project_team_json = \u001b[38;5;28;43mself\u001b[39;49m\u001b[43m.\u001b[49m\u001b[43m_get_project_teams\u001b[49m\u001b[43m(\u001b[49m\u001b[43m)\u001b[49m\n\u001b[32m     49\u001b[39m     projects = []\n\u001b[32m     50\u001b[39m     \u001b[38;5;28;01mif\u001b[39;00m project_team_json:\n\u001b[32m     51\u001b[39m         \u001b[38;5;66;03m# This information can be retrieved calling the /users/profile endpoint but is avoided as that\u001b[39;00m\n\u001b[32m     52\u001b[39m         \u001b[38;5;66;03m# requires an API key to have the USER scope which is not guaranteed on serverless\u001b[39;00m\n\u001b[32m     53\u001b[39m         \u001b[38;5;66;03m# Until there is a better solution this code is used to get the current user_id to check project ownership\u001b[39;00m\n",
      "\u001b[36mFile \u001b[39m\u001b[32m/opt/anaconda3/envs/citi/lib/python3.11/site-packages/hopsworks_common/core/project_api.py:73\u001b[39m, in \u001b[36mProjectApi._get_project_teams\u001b[39m\u001b[34m(self)\u001b[39m\n\u001b[32m     69\u001b[39m _client = client.get_instance()\n\u001b[32m     70\u001b[39m path_params = [\n\u001b[32m     71\u001b[39m     \u001b[33m\"\u001b[39m\u001b[33mproject\u001b[39m\u001b[33m\"\u001b[39m,\n\u001b[32m     72\u001b[39m ]\n\u001b[32m---> \u001b[39m\u001b[32m73\u001b[39m \u001b[38;5;28;01mreturn\u001b[39;00m \u001b[43m_client\u001b[49m\u001b[43m.\u001b[49m\u001b[43m_send_request\u001b[49m\u001b[43m(\u001b[49m\u001b[33;43m\"\u001b[39;49m\u001b[33;43mGET\u001b[39;49m\u001b[33;43m\"\u001b[39;49m\u001b[43m,\u001b[49m\u001b[43m \u001b[49m\u001b[43mpath_params\u001b[49m\u001b[43m)\u001b[49m\n",
      "\u001b[36mFile \u001b[39m\u001b[32m/opt/anaconda3/envs/citi/lib/python3.11/site-packages/hopsworks_common/decorators.py:48\u001b[39m, in \u001b[36mconnected.<locals>.if_connected\u001b[39m\u001b[34m(inst, *args, **kwargs)\u001b[39m\n\u001b[32m     46\u001b[39m \u001b[38;5;28;01mif\u001b[39;00m \u001b[38;5;129;01mnot\u001b[39;00m inst._connected:\n\u001b[32m     47\u001b[39m     \u001b[38;5;28;01mraise\u001b[39;00m NoHopsworksConnectionError\n\u001b[32m---> \u001b[39m\u001b[32m48\u001b[39m \u001b[38;5;28;01mreturn\u001b[39;00m \u001b[43mfn\u001b[49m\u001b[43m(\u001b[49m\u001b[43minst\u001b[49m\u001b[43m,\u001b[49m\u001b[43m \u001b[49m\u001b[43m*\u001b[49m\u001b[43margs\u001b[49m\u001b[43m,\u001b[49m\u001b[43m \u001b[49m\u001b[43m*\u001b[49m\u001b[43m*\u001b[49m\u001b[43mkwargs\u001b[49m\u001b[43m)\u001b[49m\n",
      "\u001b[36mFile \u001b[39m\u001b[32m/opt/anaconda3/envs/citi/lib/python3.11/site-packages/hopsworks_common/client/base.py:186\u001b[39m, in \u001b[36mClient._send_request\u001b[39m\u001b[34m(self, method, path_params, query_params, headers, data, stream, files, with_base_path_params)\u001b[39m\n\u001b[32m    181\u001b[39m     response = \u001b[38;5;28mself\u001b[39m._retry_token_expired(\n\u001b[32m    182\u001b[39m         request, stream, \u001b[38;5;28mself\u001b[39m.TOKEN_EXPIRED_RETRY_INTERVAL, \u001b[32m1\u001b[39m\n\u001b[32m    183\u001b[39m     )\n\u001b[32m    185\u001b[39m \u001b[38;5;28;01mif\u001b[39;00m response.status_code // \u001b[32m100\u001b[39m != \u001b[32m2\u001b[39m:\n\u001b[32m--> \u001b[39m\u001b[32m186\u001b[39m     \u001b[38;5;28;01mraise\u001b[39;00m exceptions.RestAPIError(url, response)\n\u001b[32m    188\u001b[39m \u001b[38;5;28;01mif\u001b[39;00m stream:\n\u001b[32m    189\u001b[39m     \u001b[38;5;28;01mreturn\u001b[39;00m response\n",
      "\u001b[31mRestAPIError\u001b[39m: Metadata operation error: (url: https://c.app.hopsworks.ai/hopsworks-api/api/project). Server response: \nHTTP code: 401, HTTP reason: Unauthorized, body: b'{\"errorCode\":320012,\"errorMsg\":\"Invalid or incorrect API key.\"}', error code: 320012, error msg: Invalid or incorrect API key., user msg: "
     ]
    }
   ],
   "source": [
    "import hopsworks\n",
    "\n",
    "# Log in to Hopsworks\n",
    "project = hopsworks.login()\n",
    "\n",
    "# Create a new project\n",
    "new_project = hopsworks.create_project(\"pedal_predict\")\n"
   ]
  }
 ],
 "metadata": {
  "kernelspec": {
   "display_name": "citi",
   "language": "python",
   "name": "python3"
  },
  "language_info": {
   "codemirror_mode": {
    "name": "ipython",
    "version": 3
   },
   "file_extension": ".py",
   "mimetype": "text/x-python",
   "name": "python",
   "nbconvert_exporter": "python",
   "pygments_lexer": "ipython3",
   "version": "3.11.11"
  }
 },
 "nbformat": 4,
 "nbformat_minor": 5
}

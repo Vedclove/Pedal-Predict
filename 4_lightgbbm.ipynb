{
 "cells": [
  {
   "cell_type": "code",
   "execution_count": 1,
   "id": "4ece1f93",
   "metadata": {},
   "outputs": [],
   "source": [
    "from src.config import *"
   ]
  },
  {
   "cell_type": "code",
   "execution_count": 2,
   "id": "76c480d5",
   "metadata": {},
   "outputs": [],
   "source": [
    "import pandas as pd\n",
    "import numpy as np "
   ]
  },
  {
   "cell_type": "code",
   "execution_count": 3,
   "id": "83d5a80f",
   "metadata": {},
   "outputs": [
    {
     "data": {
      "text/html": [
       "<div>\n",
       "<style scoped>\n",
       "    .dataframe tbody tr th:only-of-type {\n",
       "        vertical-align: middle;\n",
       "    }\n",
       "\n",
       "    .dataframe tbody tr th {\n",
       "        vertical-align: top;\n",
       "    }\n",
       "\n",
       "    .dataframe thead th {\n",
       "        text-align: right;\n",
       "    }\n",
       "</style>\n",
       "<table border=\"1\" class=\"dataframe\">\n",
       "  <thead>\n",
       "    <tr style=\"text-align: right;\">\n",
       "      <th></th>\n",
       "      <th>rides_t-672</th>\n",
       "      <th>rides_t-671</th>\n",
       "      <th>rides_t-670</th>\n",
       "      <th>rides_t-669</th>\n",
       "      <th>rides_t-668</th>\n",
       "      <th>rides_t-667</th>\n",
       "      <th>rides_t-666</th>\n",
       "      <th>rides_t-665</th>\n",
       "      <th>rides_t-664</th>\n",
       "      <th>rides_t-663</th>\n",
       "      <th>...</th>\n",
       "      <th>rides_t-7</th>\n",
       "      <th>rides_t-6</th>\n",
       "      <th>rides_t-5</th>\n",
       "      <th>rides_t-4</th>\n",
       "      <th>rides_t-3</th>\n",
       "      <th>rides_t-2</th>\n",
       "      <th>rides_t-1</th>\n",
       "      <th>pickup_hour</th>\n",
       "      <th>station_id</th>\n",
       "      <th>target</th>\n",
       "    </tr>\n",
       "  </thead>\n",
       "  <tbody>\n",
       "    <tr>\n",
       "      <th>0</th>\n",
       "      <td>15</td>\n",
       "      <td>38</td>\n",
       "      <td>43</td>\n",
       "      <td>43</td>\n",
       "      <td>10</td>\n",
       "      <td>12</td>\n",
       "      <td>73</td>\n",
       "      <td>40</td>\n",
       "      <td>2</td>\n",
       "      <td>15</td>\n",
       "      <td>...</td>\n",
       "      <td>2</td>\n",
       "      <td>21</td>\n",
       "      <td>16</td>\n",
       "      <td>6</td>\n",
       "      <td>6</td>\n",
       "      <td>22</td>\n",
       "      <td>15</td>\n",
       "      <td>2022-01-01 00:00:00</td>\n",
       "      <td>HB101</td>\n",
       "      <td>8</td>\n",
       "    </tr>\n",
       "    <tr>\n",
       "      <th>1</th>\n",
       "      <td>38</td>\n",
       "      <td>43</td>\n",
       "      <td>43</td>\n",
       "      <td>10</td>\n",
       "      <td>12</td>\n",
       "      <td>73</td>\n",
       "      <td>40</td>\n",
       "      <td>2</td>\n",
       "      <td>15</td>\n",
       "      <td>50</td>\n",
       "      <td>...</td>\n",
       "      <td>21</td>\n",
       "      <td>16</td>\n",
       "      <td>6</td>\n",
       "      <td>6</td>\n",
       "      <td>22</td>\n",
       "      <td>15</td>\n",
       "      <td>8</td>\n",
       "      <td>2022-01-01 06:00:00</td>\n",
       "      <td>HB101</td>\n",
       "      <td>4</td>\n",
       "    </tr>\n",
       "    <tr>\n",
       "      <th>2</th>\n",
       "      <td>43</td>\n",
       "      <td>43</td>\n",
       "      <td>10</td>\n",
       "      <td>12</td>\n",
       "      <td>73</td>\n",
       "      <td>40</td>\n",
       "      <td>2</td>\n",
       "      <td>15</td>\n",
       "      <td>50</td>\n",
       "      <td>40</td>\n",
       "      <td>...</td>\n",
       "      <td>16</td>\n",
       "      <td>6</td>\n",
       "      <td>6</td>\n",
       "      <td>22</td>\n",
       "      <td>15</td>\n",
       "      <td>8</td>\n",
       "      <td>4</td>\n",
       "      <td>2022-01-01 12:00:00</td>\n",
       "      <td>HB101</td>\n",
       "      <td>4</td>\n",
       "    </tr>\n",
       "    <tr>\n",
       "      <th>3</th>\n",
       "      <td>43</td>\n",
       "      <td>10</td>\n",
       "      <td>12</td>\n",
       "      <td>73</td>\n",
       "      <td>40</td>\n",
       "      <td>2</td>\n",
       "      <td>15</td>\n",
       "      <td>50</td>\n",
       "      <td>40</td>\n",
       "      <td>2</td>\n",
       "      <td>...</td>\n",
       "      <td>6</td>\n",
       "      <td>6</td>\n",
       "      <td>22</td>\n",
       "      <td>15</td>\n",
       "      <td>8</td>\n",
       "      <td>4</td>\n",
       "      <td>4</td>\n",
       "      <td>2022-01-01 18:00:00</td>\n",
       "      <td>HB101</td>\n",
       "      <td>3</td>\n",
       "    </tr>\n",
       "    <tr>\n",
       "      <th>4</th>\n",
       "      <td>10</td>\n",
       "      <td>12</td>\n",
       "      <td>73</td>\n",
       "      <td>40</td>\n",
       "      <td>2</td>\n",
       "      <td>15</td>\n",
       "      <td>50</td>\n",
       "      <td>40</td>\n",
       "      <td>2</td>\n",
       "      <td>34</td>\n",
       "      <td>...</td>\n",
       "      <td>6</td>\n",
       "      <td>22</td>\n",
       "      <td>15</td>\n",
       "      <td>8</td>\n",
       "      <td>4</td>\n",
       "      <td>4</td>\n",
       "      <td>3</td>\n",
       "      <td>2022-01-02 00:00:00</td>\n",
       "      <td>HB101</td>\n",
       "      <td>2</td>\n",
       "    </tr>\n",
       "    <tr>\n",
       "      <th>...</th>\n",
       "      <td>...</td>\n",
       "      <td>...</td>\n",
       "      <td>...</td>\n",
       "      <td>...</td>\n",
       "      <td>...</td>\n",
       "      <td>...</td>\n",
       "      <td>...</td>\n",
       "      <td>...</td>\n",
       "      <td>...</td>\n",
       "      <td>...</td>\n",
       "      <td>...</td>\n",
       "      <td>...</td>\n",
       "      <td>...</td>\n",
       "      <td>...</td>\n",
       "      <td>...</td>\n",
       "      <td>...</td>\n",
       "      <td>...</td>\n",
       "      <td>...</td>\n",
       "      <td>...</td>\n",
       "      <td>...</td>\n",
       "      <td>...</td>\n",
       "    </tr>\n",
       "    <tr>\n",
       "      <th>8755</th>\n",
       "      <td>5</td>\n",
       "      <td>1</td>\n",
       "      <td>5</td>\n",
       "      <td>13</td>\n",
       "      <td>9</td>\n",
       "      <td>3</td>\n",
       "      <td>13</td>\n",
       "      <td>19</td>\n",
       "      <td>9</td>\n",
       "      <td>3</td>\n",
       "      <td>...</td>\n",
       "      <td>0</td>\n",
       "      <td>10</td>\n",
       "      <td>10</td>\n",
       "      <td>5</td>\n",
       "      <td>3</td>\n",
       "      <td>4</td>\n",
       "      <td>12</td>\n",
       "      <td>2023-12-30 18:00:00</td>\n",
       "      <td>HB305</td>\n",
       "      <td>4</td>\n",
       "    </tr>\n",
       "    <tr>\n",
       "      <th>8756</th>\n",
       "      <td>1</td>\n",
       "      <td>5</td>\n",
       "      <td>13</td>\n",
       "      <td>9</td>\n",
       "      <td>3</td>\n",
       "      <td>13</td>\n",
       "      <td>19</td>\n",
       "      <td>9</td>\n",
       "      <td>3</td>\n",
       "      <td>16</td>\n",
       "      <td>...</td>\n",
       "      <td>10</td>\n",
       "      <td>10</td>\n",
       "      <td>5</td>\n",
       "      <td>3</td>\n",
       "      <td>4</td>\n",
       "      <td>12</td>\n",
       "      <td>4</td>\n",
       "      <td>2023-12-31 00:00:00</td>\n",
       "      <td>HB305</td>\n",
       "      <td>2</td>\n",
       "    </tr>\n",
       "    <tr>\n",
       "      <th>8757</th>\n",
       "      <td>5</td>\n",
       "      <td>13</td>\n",
       "      <td>9</td>\n",
       "      <td>3</td>\n",
       "      <td>13</td>\n",
       "      <td>19</td>\n",
       "      <td>9</td>\n",
       "      <td>3</td>\n",
       "      <td>16</td>\n",
       "      <td>21</td>\n",
       "      <td>...</td>\n",
       "      <td>10</td>\n",
       "      <td>5</td>\n",
       "      <td>3</td>\n",
       "      <td>4</td>\n",
       "      <td>12</td>\n",
       "      <td>4</td>\n",
       "      <td>2</td>\n",
       "      <td>2023-12-31 06:00:00</td>\n",
       "      <td>HB305</td>\n",
       "      <td>6</td>\n",
       "    </tr>\n",
       "    <tr>\n",
       "      <th>8758</th>\n",
       "      <td>13</td>\n",
       "      <td>9</td>\n",
       "      <td>3</td>\n",
       "      <td>13</td>\n",
       "      <td>19</td>\n",
       "      <td>9</td>\n",
       "      <td>3</td>\n",
       "      <td>16</td>\n",
       "      <td>21</td>\n",
       "      <td>20</td>\n",
       "      <td>...</td>\n",
       "      <td>5</td>\n",
       "      <td>3</td>\n",
       "      <td>4</td>\n",
       "      <td>12</td>\n",
       "      <td>4</td>\n",
       "      <td>2</td>\n",
       "      <td>6</td>\n",
       "      <td>2023-12-31 12:00:00</td>\n",
       "      <td>HB305</td>\n",
       "      <td>6</td>\n",
       "    </tr>\n",
       "    <tr>\n",
       "      <th>8759</th>\n",
       "      <td>9</td>\n",
       "      <td>3</td>\n",
       "      <td>13</td>\n",
       "      <td>19</td>\n",
       "      <td>9</td>\n",
       "      <td>3</td>\n",
       "      <td>16</td>\n",
       "      <td>21</td>\n",
       "      <td>20</td>\n",
       "      <td>3</td>\n",
       "      <td>...</td>\n",
       "      <td>3</td>\n",
       "      <td>4</td>\n",
       "      <td>12</td>\n",
       "      <td>4</td>\n",
       "      <td>2</td>\n",
       "      <td>6</td>\n",
       "      <td>6</td>\n",
       "      <td>2023-12-31 18:00:00</td>\n",
       "      <td>HB305</td>\n",
       "      <td>6</td>\n",
       "    </tr>\n",
       "  </tbody>\n",
       "</table>\n",
       "<p>8760 rows × 675 columns</p>\n",
       "</div>"
      ],
      "text/plain": [
       "      rides_t-672  rides_t-671  rides_t-670  rides_t-669  rides_t-668  \\\n",
       "0              15           38           43           43           10   \n",
       "1              38           43           43           10           12   \n",
       "2              43           43           10           12           73   \n",
       "3              43           10           12           73           40   \n",
       "4              10           12           73           40            2   \n",
       "...           ...          ...          ...          ...          ...   \n",
       "8755            5            1            5           13            9   \n",
       "8756            1            5           13            9            3   \n",
       "8757            5           13            9            3           13   \n",
       "8758           13            9            3           13           19   \n",
       "8759            9            3           13           19            9   \n",
       "\n",
       "      rides_t-667  rides_t-666  rides_t-665  rides_t-664  rides_t-663  ...  \\\n",
       "0              12           73           40            2           15  ...   \n",
       "1              73           40            2           15           50  ...   \n",
       "2              40            2           15           50           40  ...   \n",
       "3               2           15           50           40            2  ...   \n",
       "4              15           50           40            2           34  ...   \n",
       "...           ...          ...          ...          ...          ...  ...   \n",
       "8755            3           13           19            9            3  ...   \n",
       "8756           13           19            9            3           16  ...   \n",
       "8757           19            9            3           16           21  ...   \n",
       "8758            9            3           16           21           20  ...   \n",
       "8759            3           16           21           20            3  ...   \n",
       "\n",
       "      rides_t-7  rides_t-6  rides_t-5  rides_t-4  rides_t-3  rides_t-2  \\\n",
       "0             2         21         16          6          6         22   \n",
       "1            21         16          6          6         22         15   \n",
       "2            16          6          6         22         15          8   \n",
       "3             6          6         22         15          8          4   \n",
       "4             6         22         15          8          4          4   \n",
       "...         ...        ...        ...        ...        ...        ...   \n",
       "8755          0         10         10          5          3          4   \n",
       "8756         10         10          5          3          4         12   \n",
       "8757         10          5          3          4         12          4   \n",
       "8758          5          3          4         12          4          2   \n",
       "8759          3          4         12          4          2          6   \n",
       "\n",
       "      rides_t-1          pickup_hour  station_id  target  \n",
       "0            15  2022-01-01 00:00:00       HB101       8  \n",
       "1             8  2022-01-01 06:00:00       HB101       4  \n",
       "2             4  2022-01-01 12:00:00       HB101       4  \n",
       "3             4  2022-01-01 18:00:00       HB101       3  \n",
       "4             3  2022-01-02 00:00:00       HB101       2  \n",
       "...         ...                  ...         ...     ...  \n",
       "8755         12  2023-12-30 18:00:00       HB305       4  \n",
       "8756          4  2023-12-31 00:00:00       HB305       2  \n",
       "8757          2  2023-12-31 06:00:00       HB305       6  \n",
       "8758          6  2023-12-31 12:00:00       HB305       6  \n",
       "8759          6  2023-12-31 18:00:00       HB305       6  \n",
       "\n",
       "[8760 rows x 675 columns]"
      ]
     },
     "execution_count": 3,
     "metadata": {},
     "output_type": "execute_result"
    }
   ],
   "source": [
    "df = pd.read_csv(TRANSFORMED_DATA_DIR / \"transformed_data_6h.csv\")\n",
    "df"
   ]
  },
  {
   "cell_type": "code",
   "execution_count": 4,
   "id": "c326c8a6",
   "metadata": {},
   "outputs": [
    {
     "name": "stdout",
     "output_type": "stream",
     "text": [
      "(4380, 672)\n",
      "(4380,)\n",
      "(4380, 672)\n",
      "(4380,)\n"
     ]
    }
   ],
   "source": [
    "# Ensure the 'pickup_hour' column is in datetime format\n",
    "df['pickup_hour'] = pd.to_datetime(df['pickup_hour'])\n",
    "\n",
    "# Split the data into training (2022) and testing (2023)\n",
    "train_data = df[df['pickup_hour'].dt.year == 2022]\n",
    "test_data = df[df['pickup_hour'].dt.year == 2023]\n",
    "\n",
    "# Separate features (X) and target (Y)\n",
    "X_train = train_data.drop(columns=['target','pickup_hour','station_id'])\n",
    "y_train = train_data['target']\n",
    "\n",
    "X_test = test_data.drop(columns=['target','pickup_hour','station_id'])\n",
    "y_test = test_data['target']\n",
    "\n",
    "print(X_train.shape)\n",
    "print(y_train.shape)\n",
    "print(X_test.shape)\n",
    "print(y_test.shape)"
   ]
  },
  {
   "cell_type": "code",
   "execution_count": 5,
   "id": "f5ce1e4a",
   "metadata": {},
   "outputs": [
    {
     "name": "stdout",
     "output_type": "stream",
     "text": [
      "[LightGBM] [Info] Auto-choosing col-wise multi-threading, the overhead of testing was 0.006687 seconds.\n",
      "You can set `force_col_wise=true` to remove the overhead.\n",
      "[LightGBM] [Info] Total Bins 48824\n",
      "[LightGBM] [Info] Number of data points in the train set: 4380, number of used features: 672\n",
      "[LightGBM] [Info] Start training from score 14.637215\n",
      "LightGBM MAE: 4.61\n"
     ]
    }
   ],
   "source": [
    "import lightgbm as lgb\n",
    "from sklearn.metrics import mean_absolute_error\n",
    "\n",
    "# 1. Define and train LightGBM model\n",
    "model = lgb.LGBMRegressor(\n",
    "    objective='regression',\n",
    "    n_estimators=100,\n",
    "    learning_rate=0.05,\n",
    "    num_leaves=31,\n",
    "    random_state=42\n",
    ")\n",
    "\n",
    "model.fit(X_train, y_train)\n",
    "\n",
    "# 3. Predict and evaluate\n",
    "y_pred = model.predict(X_test)\n",
    "mae = mean_absolute_error(y_test, y_pred)\n",
    "print(f\"LightGBM MAE: {mae:.2f}\")\n"
   ]
  },
  {
   "cell_type": "code",
   "execution_count": null,
   "id": "ed0d7aa6",
   "metadata": {},
   "outputs": [],
   "source": []
  },
  {
   "cell_type": "code",
   "execution_count": 7,
   "id": "7e2d7f62",
   "metadata": {},
   "outputs": [
    {
     "data": {
      "text/plain": [
       "array([ 5.02210424,  0.81017703,  3.21450495, ...,  5.70334437,\n",
       "       12.05187071,  3.24265139])"
      ]
     },
     "execution_count": 7,
     "metadata": {},
     "output_type": "execute_result"
    }
   ],
   "source": [
    "y_pred"
   ]
  },
  {
   "cell_type": "code",
   "execution_count": 6,
   "id": "a450a259",
   "metadata": {},
   "outputs": [
    {
     "data": {
      "image/png": "[encoded data removed]",
      "text/plain": [
       "<Figure size 1200x500 with 1 Axes>"
      ]
     },
     "metadata": {},
     "output_type": "display_data"
    }
   ],
   "source": [
    "import matplotlib.pyplot as plt\n",
    "\n",
    "plt.figure(figsize=(12, 5))\n",
    "\n",
    "# Convert y_pred to a pandas Series with the same index as y_test\n",
    "y_pred_series = pd.Series(y_pred, index=y_test.index)\n",
    "\n",
    "# Plot with reduced linewidth and transparency\n",
    "plt.plot(y_test.index, y_test, label='Actual', color='blue', linewidth=1, alpha=0.8)\n",
    "plt.plot(y_pred_series.index, y_pred_series, label='Predicted', color='orange', linewidth=1, alpha=0.8)\n",
    "\n",
    "plt.xlabel('Index')\n",
    "plt.ylabel('Values')\n",
    "plt.title('Actual vs Predicted Ride Counts')\n",
    "plt.legend()\n",
    "plt.grid(True)\n",
    "plt.tight_layout()\n",
    "plt.show()\n"
   ]
  },
  {
   "cell_type": "markdown",
   "id": "1130e4c9",
   "metadata": {},
   "source": [
    "## Get Importance for next Model"
   ]
  },
  {
   "cell_type": "code",
   "execution_count": 14,
   "id": "13061b26",
   "metadata": {},
   "outputs": [
    {
     "name": "stdout",
     "output_type": "stream",
     "text": [
      "['rides_t-1', 'rides_t-4', 'rides_t-28', 'rides_t-3', 'rides_t-84', 'rides_t-56', 'rides_t-24', 'rides_t-112', 'rides_t-2', 'rides_t-140']\n"
     ]
    }
   ],
   "source": [
    "import pandas as pd\n",
    "\n",
    "importances = model.feature_importances_\n",
    "feature_names = X_train.columns\n",
    "\n",
    "importance_df = pd.DataFrame({\n",
    "    'Feature': feature_names,\n",
    "    'Importance': importances\n",
    "}).sort_values(by='Importance', ascending=False)\n",
    "\n",
    "# Filter only lag features (e.g., rides_t-*)\n",
    "important_lags = importance_df[importance_df['Feature'].str.startswith('rides_t-')]\n",
    "important_lag_list = important_lags[important_lags['Importance'] > 0]['Feature'].tolist()\n",
    "\n",
    "print(important_lag_list[:10])  # Top 20 important lag features\n"
   ]
  },
  {
   "cell_type": "code",
   "execution_count": null,
   "id": "c7f7cc95",
   "metadata": {},
   "outputs": [
    {
     "data": {
      "text/plain": [
       "['/Users/vedclove/Documents/Kaam-Dhanda/UniBuff/CDA500/Pedal-Predict/models/lgb_model.pkl']"
      ]
     },
     "execution_count": 19,
     "metadata": {},
     "output_type": "execute_result"
    }
   ],
   "source": [
    "import joblib\n",
    "\n",
    "# Save the pipeline  \n",
    "joblib.dump(model, MODELS_DIR/\"lgb_model.pkl\")"
   ]
  },
  {
   "cell_type": "code",
   "execution_count": 7,
   "id": "5c8fb5f8",
   "metadata": {},
   "outputs": [
    {
     "data": {
      "text/html": [
       "<pre style=\"white-space:pre;overflow-x:auto;line-height:normal;font-family:Menlo,'DejaVu Sans Mono',consolas,'Courier New',monospace\">Accessing as Vedclove\n",
       "</pre>\n"
      ],
      "text/plain": [
       "Accessing as Vedclove\n"
      ]
     },
     "metadata": {},
     "output_type": "display_data"
    },
    {
     "data": {
      "text/html": [
       "<pre style=\"white-space:pre;overflow-x:auto;line-height:normal;font-family:Menlo,'DejaVu Sans Mono',consolas,'Courier New',monospace\">Initialized MLflow to track repo <span style=\"color: #008000; text-decoration-color: #008000\">\"Vedclove/Pedal-Predict\"</span>\n",
       "</pre>\n"
      ],
      "text/plain": [
       "Initialized MLflow to track repo \u001b[32m\"Vedclove/Pedal-Predict\"\u001b[0m\n"
      ]
     },
     "metadata": {},
     "output_type": "display_data"
    },
    {
     "data": {
      "text/html": [
       "<pre style=\"white-space:pre;overflow-x:auto;line-height:normal;font-family:Menlo,'DejaVu Sans Mono',consolas,'Courier New',monospace\">Repository Vedclove/Pedal-Predict initialized!\n",
       "</pre>\n"
      ],
      "text/plain": [
       "Repository Vedclove/Pedal-Predict initialized!\n"
      ]
     },
     "metadata": {},
     "output_type": "display_data"
    }
   ],
   "source": [
    "import sys\n",
    "import os\n",
    "\n",
    "# Add the parent directory to the Python path\n",
    "sys.path.append(os.path.abspath(os.path.join(os.getcwd(), \"..\")))\n",
    "\n",
    "import dagshub\n",
    "dagshub.init(repo_owner='Vedclove', repo_name='Pedal-Predict', mlflow=True)"
   ]
  },
  {
   "cell_type": "code",
   "execution_count": 8,
   "id": "98c5df57",
   "metadata": {},
   "outputs": [
    {
     "name": "stderr",
     "output_type": "stream",
     "text": [
      "INFO:src.experiment_utils:MLflow tracking URI and credentials set.\n"
     ]
    }
   ],
   "source": [
    "from src.experiment_utils import set_mlflow_tracking, log_model_to_mlflow\n",
    "\n",
    "mlflow = set_mlflow_tracking()"
   ]
  },
  {
   "cell_type": "code",
   "execution_count": 9,
   "id": "e1902c45",
   "metadata": {},
   "outputs": [
    {
     "name": "stdout",
     "output_type": "stream",
     "text": [
      "Current MLflow Tracking URI: https://dagshub.com/Vedclove/Pedal-Predict.mlflow\n"
     ]
    }
   ],
   "source": [
    "import mlflow\n",
    "\n",
    "print(\"Current MLflow Tracking URI:\", mlflow.get_tracking_uri())"
   ]
  },
  {
   "cell_type": "code",
   "execution_count": 10,
   "id": "df34b565",
   "metadata": {},
   "outputs": [
    {
     "name": "stderr",
     "output_type": "stream",
     "text": [
      "2025/05/10 11:08:28 INFO mlflow.tracking.fluent: Experiment with name 'LightGBM Model' does not exist. Creating a new experiment.\n"
     ]
    },
    {
     "name": "stdout",
     "output_type": "stream",
     "text": [
      "🏃 View run sincere-crane-458 at: https://dagshub.com/Vedclove/Pedal-Predict.mlflow/#/experiments/1/runs/4a7a8c96d7e143e8ac3007c6632f8650\n",
      "🧪 View experiment at: https://dagshub.com/Vedclove/Pedal-Predict.mlflow/#/experiments/1\n"
     ]
    }
   ],
   "source": [
    "mlflow.set_experiment(\"LightGBM Model\")\n",
    "\n",
    "# Start an MLflow run\n",
    "with mlflow.start_run():\n",
    "        mlflow.log_metric(\"mean_absolute_error\", mae)"
   ]
  }
 ],
 "metadata": {
  "kernelspec": {
   "display_name": "citi",
   "language": "python",
   "name": "python3"
  },
  "language_info": {
   "codemirror_mode": {
    "name": "ipython",
    "version": 3
   },
   "file_extension": ".py",
   "mimetype": "text/x-python",
   "name": "python",
   "nbconvert_exporter": "python",
   "pygments_lexer": "ipython3",
   "version": "3.11.11"
  }
 },
 "nbformat": 4,
 "nbformat_minor": 5
}
